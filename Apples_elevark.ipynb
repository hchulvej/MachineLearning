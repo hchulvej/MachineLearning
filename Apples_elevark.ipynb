{
 "cells": [
  {
   "cell_type": "markdown",
   "metadata": {},
   "source": [
    "## 1. Indlæs biblioteker i Python\n",
    "\n",
    "I denne opgave har du brug for at indlæse bibliotekerne\n",
    "\n",
    "1. Pandas\n",
    "2. Numpy\n",
    "3. Matplotlib.pyplot\n",
    "4. Seaborn\n",
    "\n",
    "Man anvender normal aliaser for at gøre det nemmere at skrive koden senere.\n",
    "\n",
    "Standardaliaserne for ovenstående biblioteker er:\n",
    "\n",
    "- Pandas: pd\n",
    "- Numpy: np\n",
    "- Matplotlib.pyplot: plt\n",
    "- Seaborn: sns (se her: 'https://en.wikipedia.org/wiki/Sam_Seaborn')"
   ]
  },
  {
   "cell_type": "code",
   "execution_count": 1,
   "metadata": {},
   "outputs": [],
   "source": [
    "# Syntaksen er \"import <bibliotek> as <alias>\"\n",
    "# Importer de fire biblioteker og anvend ovenstående aliaser.\n",
    "# Hvis du kører koden via Jupyter.org, skal du desuden inkludere linjen\n",
    "# %matplotlib notebook (uden '# ')\n",
    "# som din første linje"
   ]
  },
  {
   "cell_type": "markdown",
   "metadata": {},
   "source": [
    "## 2. Indlæs datafilen 'ML_apple_quality.csv'\n",
    "\n",
    "Tip: Hvis du har .csv-filen i samme mappe som denne notebook, behøver du ikke tænke på stien og kan nøjes med navnet."
   ]
  },
  {
   "cell_type": "code",
   "execution_count": 2,
   "metadata": {},
   "outputs": [],
   "source": [
    "# Vi bruger metoden 'read_csv' fra Pandas\n",
    "# Syntaksen er \"<datavariablens_navn> = pd.read_csv(<filnavn>)\"\n",
    "# Indlæs data til en datavariabel kaldet 'data'\n"
   ]
  },
  {
   "cell_type": "markdown",
   "metadata": {},
   "source": [
    "## 3. Aflæs grundlæggende egenskaber ved data ved hjælp af Pandas\n",
    "\n",
    "Vi vil gerne kunne\n",
    "- se størrelsen på datasættet (antal rækker og kolonner)\n",
    "- se datatyperne på de enkelte søjler\n",
    "- se de første 5 (eller et andet antal) rækker\n",
    "- se de sidste 5 (eller et andet antal) rækker"
   ]
  },
  {
   "cell_type": "code",
   "execution_count": 3,
   "metadata": {},
   "outputs": [],
   "source": [
    "# Når data er indlæst som en Pandas DataFrame, kan vi tilgå en egenskab kaldet 'shape'\n",
    "# Husk, at når vi skal have en egenskab, bruger vi .-notation og ingen parenteser\n",
    "# Bestem antallet af rækker og kolonner i det konkrete datasæt"
   ]
  },
  {
   "cell_type": "code",
   "execution_count": 4,
   "metadata": {},
   "outputs": [],
   "source": [
    "# Brug egenskaben 'dtypes' til at bestemme datatyperne for datasættets kolonner"
   ]
  },
  {
   "cell_type": "code",
   "execution_count": 5,
   "metadata": {},
   "outputs": [],
   "source": [
    "# Brug metoden 'head' til at få vist de første rækker i datasættet\n",
    "# Husk, at når vi skal kalde en metode, bruger vi .-notation og parenteser\n",
    "# Brug først 'head'-metoden uden argumenter. Hvor mange rækker vises?\n",
    "# Brug nu et argument (f.eks. 7) til 'head'-metoden. Hvor mange rækker vises?\n",
    "# Vis de første 10 rækker i datasættet."
   ]
  },
  {
   "cell_type": "code",
   "execution_count": 6,
   "metadata": {},
   "outputs": [],
   "source": [
    "# Metoden 'tail' fungerer på samme måde som 'head'. Den læser bare datasættet bagfra.\n",
    "# Vis de sidste 10 rækker i datasættet."
   ]
  },
  {
   "cell_type": "markdown",
   "metadata": {},
   "source": [
    "## 4. Fjern rækker med manglende værdier\n",
    "\n",
    "I dette datasæt er der rækker, hvor der mangler værdier. I nogle datasæt er der en god forklaring på dette, og vi accepterer, at der mangler værdier. I dette tilfælde ønsker vi dog ikke at beholde de rækker med manglende værdier.\n",
    "\n",
    "Vi skal\n",
    "- finde ud af, hvilke rækker indeholder manglende værdier\n",
    "- fjerne disse rækker"
   ]
  },
  {
   "cell_type": "code",
   "execution_count": 7,
   "metadata": {},
   "outputs": [],
   "source": [
    "# Da du viste de sidste rækker i datasættet, lagde du måske mærke til, at den sidste række var særlig.\n",
    "# Den indeholdt kun en form for signatur og burde derfor slet ikke have været inkluderet.\n",
    "# Den kan vi roligt slette.\n",
    "# Når vi kender indeksnummeret (som her er 4000), kan vi bruge metoden 'drop'.\n",
    "# Syntaksen er \"<dataframe> = <dataframe>.drop(<indeksnummeret>)\"\n",
    "# Fjern rækken med indeksnummeret 4000 fra datasættet"
   ]
  },
  {
   "cell_type": "code",
   "execution_count": 8,
   "metadata": {},
   "outputs": [],
   "source": [
    "# Vi vil undersøge, om der er flere manglende værdier.\n",
    "# Kommandoen \"<dataframe>.isna().sum()\" viser, hvor mange manglende værdier, der er per søjle.\n",
    "# Husk at erstatte <dataframe> med din egen variabel med datasættet.\n",
    "# Hvor mange manglende værdier er der i alt?"
   ]
  },
  {
   "cell_type": "code",
   "execution_count": 9,
   "metadata": {},
   "outputs": [],
   "source": [
    "# Når vi vil fjerne alle rækker med manglende værdier kan vi bruge følgende kommando:\n",
    "# \"<dataframe> = <dataframe>.dropna()\".\n",
    "# Husk at erstatte <dataframe> med din egen variabel med datasættet.\n",
    "# Fjern rækkerne med manglende værdier."
   ]
  },
  {
   "cell_type": "code",
   "execution_count": 10,
   "metadata": {},
   "outputs": [],
   "source": [
    "# Hvor mange rækker er der tilbage, nu hvor vi har fjernet nogle rækker?"
   ]
  },
  {
   "cell_type": "code",
   "execution_count": 11,
   "metadata": {},
   "outputs": [],
   "source": [
    "# Tjek, at der ikke er flere rækker, hvor der mangler værdier."
   ]
  },
  {
   "cell_type": "markdown",
   "metadata": {},
   "source": [
    "## 5. Konverter datatypen på enkelte kolonner\n",
    "\n",
    "Under afsnit 3 fandt du ud af, at kolonnen 'Acidity' (æblets syrlighed) har datatypen 'object'.\n",
    "\n",
    "Alle de andre rækker med egenskaber for æbler har datatypen 'float64' (decimaltal). Det er nok en fejl, at syrligheden ikke er angivet som et decimaltal.\n",
    "\n",
    "Kolonnen 'Quality' (æblets kvalitet) har datatypen 'object' og angiver med enten 'good' eller 'bad', om æblet er godt eller dårligt. Når der kun er to mulige værdier, bør datatypen være 'category'."
   ]
  },
  {
   "cell_type": "code",
   "execution_count": 12,
   "metadata": {},
   "outputs": [],
   "source": [
    "# Brug metoden \"apply(pd.to_numeric)\" til at konvertere datatypen for kolonnen 'Acidity' til 'float64'.\n",
    "# Hvis din DataFrame f.eks. hedder 'data' og din kolonne hedder 'kolonnenavn' er syntaksen således:\n",
    "# \"data['kolonnenavn'] = data['kolonnenavn'].apply(pd.to_numeric)\"\n",
    "# Konverter kolonnen 'Acidity' til datatypen 'float64'."
   ]
  },
  {
   "cell_type": "code",
   "execution_count": 13,
   "metadata": {},
   "outputs": [],
   "source": [
    "# Konverter kolonnen 'Quality' til datatypen 'category'."
   ]
  },
  {
   "cell_type": "code",
   "execution_count": 14,
   "metadata": {},
   "outputs": [],
   "source": [
    "# Tjek, at dine kommandoer har haft den ønskede effekt, ved at vise alle datatyperne for kolonnerne i dit datasæt."
   ]
  },
  {
   "cell_type": "markdown",
   "metadata": {},
   "source": [
    "## 6. Beregn simple statistiske deskriptorer\n",
    "\n",
    "Vi har en række egenskaber for æblerne i kolonnerne 2-8. Disse egenskaber er angivet som decimaltalsværdier.\n",
    "\n",
    "Vi kan derfor undersøge tallene og beregne statistiske deskriptorer.\n",
    "\n",
    "Vi vil gerne beregne\n",
    "- minimum (mindsteværdi)\n",
    "- maksimum (størsteværdi)\n",
    "- middelværdi (gennemsnit)\n",
    "- standardafvigelse (spredning)\n",
    "- median"
   ]
  },
  {
   "cell_type": "code",
   "execution_count": 15,
   "metadata": {},
   "outputs": [],
   "source": [
    "# Vi bruger Numpy-biblioteket til beregningerne.\n",
    "# Hvis vi ser på størrelsen først, kan vi gøre følgende:\n",
    "# apple_sizes = data['Size]\n",
    "# np.min(apple_sizes)\n",
    "# np.max(apple_sizes)\n",
    "# np.mean(apple_sizes)\n",
    "# np.std(apple_sizes)\n",
    "# np.median(apple_sizes)\n",
    "# Fjern 'havelågerne' og kør kommandoerne en efter en.\n",
    "# Forklar, hvad det er, du regner ud."
   ]
  },
  {
   "cell_type": "code",
   "execution_count": 16,
   "metadata": {},
   "outputs": [],
   "source": [
    "# Kør nedenståend kommando (fjern #)\n",
    "# print(f\"Mindsteværdien er {np.min(apple_sizes)}.\")\n",
    "# Hvad sker der ved det?"
   ]
  },
  {
   "cell_type": "code",
   "execution_count": 17,
   "metadata": {},
   "outputs": [],
   "source": [
    "# Kør en kommando, som printer \"Middelværdien er \" efterfulgt af den konkrete middelværdi ud."
   ]
  },
  {
   "cell_type": "code",
   "execution_count": 18,
   "metadata": {},
   "outputs": [],
   "source": [
    "# Lav de samme beregninger på de resterende kolonner (3-8)"
   ]
  },
  {
   "cell_type": "code",
   "execution_count": 19,
   "metadata": {},
   "outputs": [],
   "source": [
    "# Kør kommandoen \"<dataframe>.describe().T\"\n",
    "# Husk at erstatte \"<dataframe>\" med navnet på din datavariabel.\n",
    "# Hvad viser outputtet?"
   ]
  },
  {
   "cell_type": "markdown",
   "metadata": {},
   "source": [
    "## 7. Plot simple statistiske figurer\n",
    "\n",
    "Vi vil gerne kunne illustrere datasættet grafisk ved boksplots og histogrammer.\n",
    "\n",
    "Vi bruger bibliotekerne Matplotlib.pyplot og Seaborn til at lave de grafiske figurer."
   ]
  },
  {
   "cell_type": "code",
   "execution_count": 20,
   "metadata": {},
   "outputs": [],
   "source": [
    "# Vi laver først et enkelt boksplot til illustration af æblestørrelserne.\n",
    "# plt.boxplot(apple_sizes, vert=False, whis=(0,100));\n",
    "# Fjern # på ovenstående linje (husk at skrive noget andet, hvis din variabel ikke hedder apple_sizes)\n"
   ]
  },
  {
   "cell_type": "code",
   "execution_count": 21,
   "metadata": {},
   "outputs": [],
   "source": [
    "# Lav to boksplot mere baseret på nogle af de andre egenskaber ved æblerne."
   ]
  },
  {
   "cell_type": "code",
   "execution_count": 22,
   "metadata": {},
   "outputs": [],
   "source": [
    "# Fjern # på de to efterfølgende linjer\n",
    "# fig = plt.figure(figsize=(20,8))\n",
    "# sns.boxplot(df, whis=(0,100), orient='h')\n",
    "# Hvad viser figuren?"
   ]
  },
  {
   "cell_type": "code",
   "execution_count": 23,
   "metadata": {},
   "outputs": [],
   "source": [
    "# Vi laver nu et histogram over æblestørrelserne\n",
    "# Kør nedenstående:\n",
    "# bins = [x for x in range(-8,8,1)]\n",
    "# plt.hist(apple_sizes, bins=bins, edgecolor='black');"
   ]
  },
  {
   "cell_type": "code",
   "execution_count": 24,
   "metadata": {},
   "outputs": [],
   "source": [
    "# Hvad vises der på figuren?"
   ]
  },
  {
   "cell_type": "code",
   "execution_count": 25,
   "metadata": {},
   "outputs": [],
   "source": [
    "# Hvilke tal er der i listen 'bins'?"
   ]
  },
  {
   "cell_type": "code",
   "execution_count": 26,
   "metadata": {},
   "outputs": [],
   "source": [
    "# Hvad sker der, hvis du tager nogle andre tal?"
   ]
  },
  {
   "cell_type": "code",
   "execution_count": 27,
   "metadata": {},
   "outputs": [],
   "source": [
    "# Lav histogrammer for de andre egenskaber ved æblerne."
   ]
  },
  {
   "cell_type": "markdown",
   "metadata": {},
   "source": [
    "## 8. Mere avancerede plots\n",
    "\n",
    "Her kan vi se at vi har kolonnerne A_id, Size, Weight, Sweetness, Crunchiness, Juiciness, Ripeness, Acidity, Quality.\n",
    "Quality er en klassificering af æblerne i god eller dårlig. (good/bad) Vi vil gerne ved forskellig plot undersøge om nogle af de andre data kan bruges til at sige noge om æblet er godt eller dårligt.\n",
    "\n",
    "Når vi plotter vil vi have at de gode æbler er grønne og de dårlige er røde."
   ]
  },
  {
   "cell_type": "code",
   "execution_count": null,
   "metadata": {},
   "outputs": [],
   "source": [
    "# Vi vil definere kontrolstruktur, som angiver farven rød, hvis et givet æbles kvalitet er 'good' og farven grøn hvis det er 'bad'.\n",
    "# colors = np.where(df[\"Quality\"]==\"good\",'red','green')\n",
    "# Fjern # fra ovenstående linje og kør koden."
   ]
  },
  {
   "cell_type": "code",
   "execution_count": null,
   "metadata": {},
   "outputs": [],
   "source": [
    "# Vi bruger et \"scatter plot\" til at plotte to æbleegenskaber op mod hinanden. Den ene egenskab sættes som x-koordinat og den anden som y-koordinat\n",
    "# og talparrene plottes i et almindeligt koordinatssystem.\n",
    "# Hvert punkt tildeles en farve baseret på den kontrolstruktur, som du definerede før (god = rød, dårlig = grøn)\n",
    "# <dataframe>.plot.scatter(x=\"Juiciness\", y=\"Crunchiness\", c=colors)\n",
    "# Fjern # i linjen ovenfor. Husk at erstatte <dataframe> med din egen variabel."
   ]
  },
  {
   "cell_type": "code",
   "execution_count": null,
   "metadata": {},
   "outputs": [],
   "source": [
    "# Undersøg egenskaberne to og to ved at lave flere scatter plots som ovenstående."
   ]
  },
  {
   "cell_type": "code",
   "execution_count": null,
   "metadata": {},
   "outputs": [],
   "source": [
    "# Vi kan også plotte 3 egenskaber op mod hinanden i et 3D-plot.\n",
    "# Bemærk, at 'df' nedenfor er den variabel, som indeholder vores DataFrame.\n",
    "# Husk at ændre navnet, hvis din hedder noget andet.\n",
    "# Der skal lidt flere linjers kode til. Fjern # fra de næste 8 linjer.\n",
    "# fig = plt.figure(figsize=(10,10))\n",
    "# plt.margins(x=1.5, y=1.5)\n",
    "# ax = fig.add_subplot(projection='3d')\n",
    "# ax.scatter(df['Juiciness'], df['Size'], df['Crunchiness'], c=colors)\n",
    "# ax.set_xlabel('Juiciness')\n",
    "# ax.set_ylabel('Size')\n",
    "# ax.set_zlabel('Crunchiness')\n",
    "# plt.show()"
   ]
  },
  {
   "cell_type": "code",
   "execution_count": null,
   "metadata": {},
   "outputs": [],
   "source": [
    "# Undersøg egenskaberne tre og tre ved at lave flere scatter plots som ovenstående."
   ]
  },
  {
   "cell_type": "code",
   "execution_count": null,
   "metadata": {},
   "outputs": [],
   "source": [
    "# For at spare lidt på indtastningerne (DRY-princippet: Don't Repeat Yourself)\n",
    "# kan vi pakke kommandoerne til både 2D- og 3D-plots ind i en funktion.\n",
    "# Bemærk igen, at hvis din DataFrame hedder noget andet end 'df', så skal du ændre i koden.\n",
    "# Fjern '# ' nedenfor\n",
    "# def my_scatter_plot(cat1, cat2, cat3=\"\"):\n",
    "#    if ((cat1 not in list(df.columns[:-1])) or (cat2 not in list(df.columns[:-1]))):\n",
    "#        print(\"Du kan kun bruge gyldige egenskaber. Tjek om du har stavet alt korrekt.\")\n",
    "#        return\n",
    "#    if (cat3 in list(df.columns[:-1])):\n",
    "#        fig = plt.figure(figsize=(10,10))\n",
    "#        plt.margins(x=1.5, y=1.5)\n",
    "#        ax = fig.add_subplot(projection='3d')\n",
    "#        ax.scatter(df[cat1], df[cat2], df[cat3], c=colors)\n",
    "#        ax.set_xlabel(cat1)\n",
    "#        ax.set_ylabel(cat2)\n",
    "#        ax.set_zlabel(cat3)\n",
    "#        plt.show()\n",
    "#    elif len(cat3) == 0:\n",
    "#        df.plot.scatter(x=cat1, y=cat2, c=colors)\n",
    "#    else:\n",
    "#        print(\"Du kan kun bruge gyldige egenskaber. Tjek om du har stavet alt korrekt.\")\n",
    "#        return"
   ]
  },
  {
   "cell_type": "code",
   "execution_count": null,
   "metadata": {},
   "outputs": [],
   "source": [
    "# Kør funktionen 'my_scatter_plot' med både to og tre argumenter."
   ]
  }
 ],
 "metadata": {
  "kernelspec": {
   "display_name": "Python 3",
   "language": "python",
   "name": "python3"
  },
  "language_info": {
   "codemirror_mode": {
    "name": "ipython",
    "version": 3
   },
   "file_extension": ".py",
   "mimetype": "text/x-python",
   "name": "python",
   "nbconvert_exporter": "python",
   "pygments_lexer": "ipython3",
   "version": "3.12.2"
  }
 },
 "nbformat": 4,
 "nbformat_minor": 2
}
