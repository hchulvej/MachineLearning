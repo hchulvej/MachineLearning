{
 "cells": [
  {
   "cell_type": "markdown",
   "metadata": {},
   "source": [
    "## 1. Indlæs biblioteker i Python\n",
    "\n",
    "I denne opgave har du brug for at indlæse bibliotekerne\n",
    "\n",
    "1. Pandas\n",
    "2. Numpy\n",
    "3. Matplotlib.pyplot\n",
    "4. Seaborn\n",
    "\n",
    "Man anvender normal aliaser for at gøre det nemmere at skrive koden senere.\n",
    "\n",
    "Standardaliaserne for ovenstående biblioteker er:\n",
    "\n",
    "- Pandas: pd\n",
    "- Numpy: np\n",
    "- Matplotlib.pyplot: plt\n",
    "- Seaborn: sns (standaraliaset er 'sns' som en hyldest til 'https://en.wikipedia.org/wiki/Sam_Seaborn')"
   ]
  },
  {
   "cell_type": "code",
   "execution_count": 1,
   "metadata": {},
   "outputs": [],
   "source": [
    "# Syntaksen er \"import <bibliotek> as <alias>\"\n",
    "# Importer de fire biblioteker og anvend ovenstående aliaser.\n",
    "# Hvis du kører koden via Jupyter.org, skal du desuden inkludere linjen\n",
    "# %matplotlib notebook (uden '# ')\n",
    "# som din første linje\n",
    "import pandas as pd\n",
    "import numpy as np\n",
    "import matplotlib.pyplot as plt\n",
    "import seaborn as sns"
   ]
  },
  {
   "cell_type": "markdown",
   "metadata": {},
   "source": [
    "## 2. Indlæs datafilen 'ML_apple_quality.csv'\n",
    "\n",
    "Tip: Hvis du har .csv-filen i samme mappe som denne notebook, behøver du ikke tænke på stien og kan nøjes med navnet."
   ]
  },
  {
   "cell_type": "code",
   "execution_count": 2,
   "metadata": {},
   "outputs": [],
   "source": [
    "# Vi bruger metoden 'read_csv' fra Pandas\n",
    "# Syntaksen er \"<datavariablens_navn> = pd.read_csv(<filnavn>)\"\n",
    "# Indlæs data til en datavariabel kaldet 'data'\n",
    "df = pd.read_csv('ML_apple_quality.csv')"
   ]
  },
  {
   "cell_type": "markdown",
   "metadata": {},
   "source": [
    "## 3. Aflæs grundlæggende egenskaber ved data ved hjælp af Pandas\n",
    "\n",
    "Vi vil gerne kunne\n",
    "- se størrelsen på datasættet (antal rækker og kolonner)\n",
    "- se datatyperne på de enkelte søjler\n",
    "- se de første 5 (eller et andet antal) rækker\n",
    "- se de sidste 5 (eller et andet antal) rækker"
   ]
  },
  {
   "cell_type": "code",
   "execution_count": 3,
   "metadata": {},
   "outputs": [
    {
     "data": {
      "text/plain": [
       "(4001, 9)"
      ]
     },
     "execution_count": 3,
     "metadata": {},
     "output_type": "execute_result"
    }
   ],
   "source": [
    "# Når data er indlæst som en Pandas DataFrame, kan vi tilgå en egenskab kaldet 'shape'\n",
    "# Husk, at når vi skal have en egenskab, bruger vi .-notation og ingen parenteser\n",
    "# Bestem antallet af rækker og kolonner i det konkrete datasæt\n",
    "df.shape"
   ]
  },
  {
   "cell_type": "code",
   "execution_count": 4,
   "metadata": {},
   "outputs": [
    {
     "data": {
      "text/plain": [
       "A_id           float64\n",
       "Size           float64\n",
       "Weight         float64\n",
       "Sweetness      float64\n",
       "Crunchiness    float64\n",
       "Juiciness      float64\n",
       "Ripeness       float64\n",
       "Acidity         object\n",
       "Quality         object\n",
       "dtype: object"
      ]
     },
     "execution_count": 4,
     "metadata": {},
     "output_type": "execute_result"
    }
   ],
   "source": [
    "# Brug egenskaben 'dtypes' til at bestemme datatyperne for datasættets kolonner\n",
    "df.dtypes"
   ]
  },
  {
   "cell_type": "code",
   "execution_count": 5,
   "metadata": {},
   "outputs": [
    {
     "data": {
      "text/html": [
       "<div>\n",
       "<style scoped>\n",
       "    .dataframe tbody tr th:only-of-type {\n",
       "        vertical-align: middle;\n",
       "    }\n",
       "\n",
       "    .dataframe tbody tr th {\n",
       "        vertical-align: top;\n",
       "    }\n",
       "\n",
       "    .dataframe thead th {\n",
       "        text-align: right;\n",
       "    }\n",
       "</style>\n",
       "<table border=\"1\" class=\"dataframe\">\n",
       "  <thead>\n",
       "    <tr style=\"text-align: right;\">\n",
       "      <th></th>\n",
       "      <th>A_id</th>\n",
       "      <th>Size</th>\n",
       "      <th>Weight</th>\n",
       "      <th>Sweetness</th>\n",
       "      <th>Crunchiness</th>\n",
       "      <th>Juiciness</th>\n",
       "      <th>Ripeness</th>\n",
       "      <th>Acidity</th>\n",
       "      <th>Quality</th>\n",
       "    </tr>\n",
       "  </thead>\n",
       "  <tbody>\n",
       "    <tr>\n",
       "      <th>0</th>\n",
       "      <td>0.0</td>\n",
       "      <td>-3.970049</td>\n",
       "      <td>-2.512336</td>\n",
       "      <td>5.346330</td>\n",
       "      <td>-1.012009</td>\n",
       "      <td>1.844900</td>\n",
       "      <td>0.329840</td>\n",
       "      <td>-0.491590483</td>\n",
       "      <td>good</td>\n",
       "    </tr>\n",
       "    <tr>\n",
       "      <th>1</th>\n",
       "      <td>1.0</td>\n",
       "      <td>-1.195217</td>\n",
       "      <td>-2.839257</td>\n",
       "      <td>3.664059</td>\n",
       "      <td>1.588232</td>\n",
       "      <td>0.853286</td>\n",
       "      <td>0.867530</td>\n",
       "      <td>-0.722809367</td>\n",
       "      <td>good</td>\n",
       "    </tr>\n",
       "    <tr>\n",
       "      <th>2</th>\n",
       "      <td>2.0</td>\n",
       "      <td>-0.292024</td>\n",
       "      <td>-1.351282</td>\n",
       "      <td>-1.738429</td>\n",
       "      <td>-0.342616</td>\n",
       "      <td>2.838636</td>\n",
       "      <td>-0.038033</td>\n",
       "      <td>2.621636473</td>\n",
       "      <td>bad</td>\n",
       "    </tr>\n",
       "    <tr>\n",
       "      <th>3</th>\n",
       "      <td>3.0</td>\n",
       "      <td>-0.657196</td>\n",
       "      <td>-2.271627</td>\n",
       "      <td>1.324874</td>\n",
       "      <td>-0.097875</td>\n",
       "      <td>3.637970</td>\n",
       "      <td>-3.413761</td>\n",
       "      <td>0.790723217</td>\n",
       "      <td>good</td>\n",
       "    </tr>\n",
       "    <tr>\n",
       "      <th>4</th>\n",
       "      <td>4.0</td>\n",
       "      <td>1.364217</td>\n",
       "      <td>-1.296612</td>\n",
       "      <td>-0.384658</td>\n",
       "      <td>-0.553006</td>\n",
       "      <td>3.030874</td>\n",
       "      <td>-1.303849</td>\n",
       "      <td>0.501984036</td>\n",
       "      <td>good</td>\n",
       "    </tr>\n",
       "    <tr>\n",
       "      <th>5</th>\n",
       "      <td>5.0</td>\n",
       "      <td>-3.425400</td>\n",
       "      <td>-1.409082</td>\n",
       "      <td>-1.913511</td>\n",
       "      <td>-0.555775</td>\n",
       "      <td>-3.853071</td>\n",
       "      <td>1.914616</td>\n",
       "      <td>-2.981523169</td>\n",
       "      <td>bad</td>\n",
       "    </tr>\n",
       "    <tr>\n",
       "      <th>6</th>\n",
       "      <td>6.0</td>\n",
       "      <td>1.331606</td>\n",
       "      <td>1.635956</td>\n",
       "      <td>0.875974</td>\n",
       "      <td>-1.677798</td>\n",
       "      <td>3.106344</td>\n",
       "      <td>-1.847417</td>\n",
       "      <td>2.414170509</td>\n",
       "      <td>good</td>\n",
       "    </tr>\n",
       "    <tr>\n",
       "      <th>7</th>\n",
       "      <td>7.0</td>\n",
       "      <td>-1.995462</td>\n",
       "      <td>-0.428958</td>\n",
       "      <td>1.530644</td>\n",
       "      <td>-0.742972</td>\n",
       "      <td>0.158834</td>\n",
       "      <td>0.974438</td>\n",
       "      <td>-1.470125066</td>\n",
       "      <td>good</td>\n",
       "    </tr>\n",
       "    <tr>\n",
       "      <th>8</th>\n",
       "      <td>8.0</td>\n",
       "      <td>-3.867632</td>\n",
       "      <td>-3.734514</td>\n",
       "      <td>0.986429</td>\n",
       "      <td>-1.207655</td>\n",
       "      <td>2.292873</td>\n",
       "      <td>4.080921</td>\n",
       "      <td>-4.871904758</td>\n",
       "      <td>bad</td>\n",
       "    </tr>\n",
       "    <tr>\n",
       "      <th>9</th>\n",
       "      <td>9.0</td>\n",
       "      <td>-0.727983</td>\n",
       "      <td>-0.442820</td>\n",
       "      <td>-4.092223</td>\n",
       "      <td>0.597513</td>\n",
       "      <td>0.393714</td>\n",
       "      <td>1.620857</td>\n",
       "      <td>2.185607723</td>\n",
       "      <td>bad</td>\n",
       "    </tr>\n",
       "  </tbody>\n",
       "</table>\n",
       "</div>"
      ],
      "text/plain": [
       "   A_id      Size    Weight  Sweetness  Crunchiness  Juiciness  Ripeness  \\\n",
       "0   0.0 -3.970049 -2.512336   5.346330    -1.012009   1.844900  0.329840   \n",
       "1   1.0 -1.195217 -2.839257   3.664059     1.588232   0.853286  0.867530   \n",
       "2   2.0 -0.292024 -1.351282  -1.738429    -0.342616   2.838636 -0.038033   \n",
       "3   3.0 -0.657196 -2.271627   1.324874    -0.097875   3.637970 -3.413761   \n",
       "4   4.0  1.364217 -1.296612  -0.384658    -0.553006   3.030874 -1.303849   \n",
       "5   5.0 -3.425400 -1.409082  -1.913511    -0.555775  -3.853071  1.914616   \n",
       "6   6.0  1.331606  1.635956   0.875974    -1.677798   3.106344 -1.847417   \n",
       "7   7.0 -1.995462 -0.428958   1.530644    -0.742972   0.158834  0.974438   \n",
       "8   8.0 -3.867632 -3.734514   0.986429    -1.207655   2.292873  4.080921   \n",
       "9   9.0 -0.727983 -0.442820  -4.092223     0.597513   0.393714  1.620857   \n",
       "\n",
       "        Acidity Quality  \n",
       "0  -0.491590483    good  \n",
       "1  -0.722809367    good  \n",
       "2   2.621636473     bad  \n",
       "3   0.790723217    good  \n",
       "4   0.501984036    good  \n",
       "5  -2.981523169     bad  \n",
       "6   2.414170509    good  \n",
       "7  -1.470125066    good  \n",
       "8  -4.871904758     bad  \n",
       "9   2.185607723     bad  "
      ]
     },
     "execution_count": 5,
     "metadata": {},
     "output_type": "execute_result"
    }
   ],
   "source": [
    "# Brug metoden 'head' til at få vist de første rækker i datasættet\n",
    "# Husk, at når vi skal kalde en metode, bruger vi .-notation og parenteser\n",
    "# Brug først 'head'-metoden uden argumenter. Hvor mange rækker vises?\n",
    "# Brug nu et argument (f.eks. 7) til 'head'-metoden. Hvor mange rækker vises?\n",
    "# Vis de første 10 rækker i datasættet.\n",
    "df.head(10)"
   ]
  },
  {
   "cell_type": "code",
   "execution_count": 6,
   "metadata": {},
   "outputs": [
    {
     "data": {
      "text/html": [
       "<div>\n",
       "<style scoped>\n",
       "    .dataframe tbody tr th:only-of-type {\n",
       "        vertical-align: middle;\n",
       "    }\n",
       "\n",
       "    .dataframe tbody tr th {\n",
       "        vertical-align: top;\n",
       "    }\n",
       "\n",
       "    .dataframe thead th {\n",
       "        text-align: right;\n",
       "    }\n",
       "</style>\n",
       "<table border=\"1\" class=\"dataframe\">\n",
       "  <thead>\n",
       "    <tr style=\"text-align: right;\">\n",
       "      <th></th>\n",
       "      <th>A_id</th>\n",
       "      <th>Size</th>\n",
       "      <th>Weight</th>\n",
       "      <th>Sweetness</th>\n",
       "      <th>Crunchiness</th>\n",
       "      <th>Juiciness</th>\n",
       "      <th>Ripeness</th>\n",
       "      <th>Acidity</th>\n",
       "      <th>Quality</th>\n",
       "    </tr>\n",
       "  </thead>\n",
       "  <tbody>\n",
       "    <tr>\n",
       "      <th>3991</th>\n",
       "      <td>3991.0</td>\n",
       "      <td>-4.007762</td>\n",
       "      <td>2.970164</td>\n",
       "      <td>0.218167</td>\n",
       "      <td>-0.492369</td>\n",
       "      <td>1.656375</td>\n",
       "      <td>-2.133895</td>\n",
       "      <td>-4.431320563</td>\n",
       "      <td>good</td>\n",
       "    </tr>\n",
       "    <tr>\n",
       "      <th>3992</th>\n",
       "      <td>3992.0</td>\n",
       "      <td>1.764253</td>\n",
       "      <td>-2.079695</td>\n",
       "      <td>-0.083383</td>\n",
       "      <td>-0.086724</td>\n",
       "      <td>-1.703385</td>\n",
       "      <td>3.840101</td>\n",
       "      <td>-0.338260538</td>\n",
       "      <td>good</td>\n",
       "    </tr>\n",
       "    <tr>\n",
       "      <th>3993</th>\n",
       "      <td>3993.0</td>\n",
       "      <td>1.520142</td>\n",
       "      <td>-0.352623</td>\n",
       "      <td>-3.206467</td>\n",
       "      <td>1.341719</td>\n",
       "      <td>0.675568</td>\n",
       "      <td>0.107093</td>\n",
       "      <td>-0.945080106</td>\n",
       "      <td>bad</td>\n",
       "    </tr>\n",
       "    <tr>\n",
       "      <th>3994</th>\n",
       "      <td>3994.0</td>\n",
       "      <td>1.482508</td>\n",
       "      <td>-2.581181</td>\n",
       "      <td>-0.306888</td>\n",
       "      <td>1.527877</td>\n",
       "      <td>1.056361</td>\n",
       "      <td>2.560829</td>\n",
       "      <td>-1.229254586</td>\n",
       "      <td>good</td>\n",
       "    </tr>\n",
       "    <tr>\n",
       "      <th>3995</th>\n",
       "      <td>3995.0</td>\n",
       "      <td>0.059386</td>\n",
       "      <td>-1.067408</td>\n",
       "      <td>-3.714549</td>\n",
       "      <td>0.473052</td>\n",
       "      <td>1.697986</td>\n",
       "      <td>2.244055</td>\n",
       "      <td>0.137784369</td>\n",
       "      <td>bad</td>\n",
       "    </tr>\n",
       "    <tr>\n",
       "      <th>3996</th>\n",
       "      <td>3996.0</td>\n",
       "      <td>-0.293118</td>\n",
       "      <td>1.949253</td>\n",
       "      <td>NaN</td>\n",
       "      <td>-0.640196</td>\n",
       "      <td>0.024523</td>\n",
       "      <td>-1.087900</td>\n",
       "      <td>1.854235285</td>\n",
       "      <td>good</td>\n",
       "    </tr>\n",
       "    <tr>\n",
       "      <th>3997</th>\n",
       "      <td>3997.0</td>\n",
       "      <td>-2.634515</td>\n",
       "      <td>-2.138247</td>\n",
       "      <td>-2.440461</td>\n",
       "      <td>0.657223</td>\n",
       "      <td>2.199709</td>\n",
       "      <td>4.763859</td>\n",
       "      <td>-1.334611391</td>\n",
       "      <td>bad</td>\n",
       "    </tr>\n",
       "    <tr>\n",
       "      <th>3998</th>\n",
       "      <td>3998.0</td>\n",
       "      <td>-4.008004</td>\n",
       "      <td>-1.779337</td>\n",
       "      <td>2.366397</td>\n",
       "      <td>-0.200329</td>\n",
       "      <td>2.161435</td>\n",
       "      <td>0.214488</td>\n",
       "      <td>-2.229719806</td>\n",
       "      <td>good</td>\n",
       "    </tr>\n",
       "    <tr>\n",
       "      <th>3999</th>\n",
       "      <td>3999.0</td>\n",
       "      <td>0.278540</td>\n",
       "      <td>-1.715505</td>\n",
       "      <td>0.121217</td>\n",
       "      <td>-1.154075</td>\n",
       "      <td>1.266677</td>\n",
       "      <td>-0.776571</td>\n",
       "      <td>1.599796456</td>\n",
       "      <td>good</td>\n",
       "    </tr>\n",
       "    <tr>\n",
       "      <th>4000</th>\n",
       "      <td>NaN</td>\n",
       "      <td>NaN</td>\n",
       "      <td>NaN</td>\n",
       "      <td>NaN</td>\n",
       "      <td>NaN</td>\n",
       "      <td>NaN</td>\n",
       "      <td>NaN</td>\n",
       "      <td>Created_by_Nidula_Elgiriyewithana</td>\n",
       "      <td>NaN</td>\n",
       "    </tr>\n",
       "  </tbody>\n",
       "</table>\n",
       "</div>"
      ],
      "text/plain": [
       "        A_id      Size    Weight  Sweetness  Crunchiness  Juiciness  Ripeness  \\\n",
       "3991  3991.0 -4.007762  2.970164   0.218167    -0.492369   1.656375 -2.133895   \n",
       "3992  3992.0  1.764253 -2.079695  -0.083383    -0.086724  -1.703385  3.840101   \n",
       "3993  3993.0  1.520142 -0.352623  -3.206467     1.341719   0.675568  0.107093   \n",
       "3994  3994.0  1.482508 -2.581181  -0.306888     1.527877   1.056361  2.560829   \n",
       "3995  3995.0  0.059386 -1.067408  -3.714549     0.473052   1.697986  2.244055   \n",
       "3996  3996.0 -0.293118  1.949253        NaN    -0.640196   0.024523 -1.087900   \n",
       "3997  3997.0 -2.634515 -2.138247  -2.440461     0.657223   2.199709  4.763859   \n",
       "3998  3998.0 -4.008004 -1.779337   2.366397    -0.200329   2.161435  0.214488   \n",
       "3999  3999.0  0.278540 -1.715505   0.121217    -1.154075   1.266677 -0.776571   \n",
       "4000     NaN       NaN       NaN        NaN          NaN        NaN       NaN   \n",
       "\n",
       "                                Acidity Quality  \n",
       "3991                       -4.431320563    good  \n",
       "3992                       -0.338260538    good  \n",
       "3993                       -0.945080106     bad  \n",
       "3994                       -1.229254586    good  \n",
       "3995                        0.137784369     bad  \n",
       "3996                        1.854235285    good  \n",
       "3997                       -1.334611391     bad  \n",
       "3998                       -2.229719806    good  \n",
       "3999                        1.599796456    good  \n",
       "4000  Created_by_Nidula_Elgiriyewithana     NaN  "
      ]
     },
     "execution_count": 6,
     "metadata": {},
     "output_type": "execute_result"
    }
   ],
   "source": [
    "# Metoden 'tail' fungerer på samme måde som 'head'. Den læser bare datasættet bagfra.\n",
    "# Vis de sidste 10 rækker i datasættet.\n",
    "df.tail(10)"
   ]
  },
  {
   "cell_type": "markdown",
   "metadata": {},
   "source": [
    "## 4. Fjern rækker med manglende værdier\n",
    "\n",
    "I dette datasæt er der rækker, hvor der mangler værdier. I nogle datasæt er der en god forklaring på dette, og vi accepterer, at der mangler værdier. I dette tilfælde ønsker vi dog ikke at beholde de rækker med manglende værdier.\n",
    "\n",
    "Vi skal\n",
    "- finde ud af, hvilke rækker indeholder manglende værdier\n",
    "- fjerne disse rækker"
   ]
  },
  {
   "cell_type": "code",
   "execution_count": 7,
   "metadata": {},
   "outputs": [],
   "source": [
    "# Da du viste de sidste rækker i datasættet, lagde du måske mærke til, at den sidste række var særlig.\n",
    "# Den indeholdt kun en form for signatur og burde derfor slet ikke have været inkluderet.\n",
    "# Den kan vi roligt slette.\n",
    "# Når vi kender indeksnummeret (som her er 4000), kan vi bruge metoden 'drop'.\n",
    "# Syntaksen er \"<dataframe> = <dataframe>.drop(<indeksnummeret>)\"\n",
    "# Fjern rækken med indeksnummeret 4000 fra datasættet\n",
    "df = df.drop(4000)"
   ]
  },
  {
   "cell_type": "code",
   "execution_count": 8,
   "metadata": {},
   "outputs": [
    {
     "data": {
      "text/plain": [
       "A_id           0\n",
       "Size           1\n",
       "Weight         0\n",
       "Sweetness      1\n",
       "Crunchiness    0\n",
       "Juiciness      1\n",
       "Ripeness       1\n",
       "Acidity        0\n",
       "Quality        0\n",
       "dtype: int64"
      ]
     },
     "execution_count": 8,
     "metadata": {},
     "output_type": "execute_result"
    }
   ],
   "source": [
    "# Vi vil undersøge, om der er flere manglende værdier.\n",
    "# Kommandoen \"<dataframe>.isna().sum()\" viser, hvor mange manglende værdier, der er per søjle.\n",
    "# Husk at erstatte <dataframe> med din egen variabel med datasættet.\n",
    "# Hvor mange manglende værdier er der i alt?\n",
    "df.isna().sum()"
   ]
  },
  {
   "cell_type": "code",
   "execution_count": 9,
   "metadata": {},
   "outputs": [],
   "source": [
    "# Når vi vil fjerne alle rækker med manglende værdier kan vi bruge følgende kommando:\n",
    "# \"<dataframe> = <dataframe>.dropna()\".\n",
    "# Husk at erstatte <dataframe> med din egen variabel med datasættet.\n",
    "# Fjern rækkerne med manglende værdier.\n",
    "df = df.dropna()"
   ]
  },
  {
   "cell_type": "code",
   "execution_count": 10,
   "metadata": {},
   "outputs": [
    {
     "data": {
      "text/plain": [
       "(3996, 9)"
      ]
     },
     "execution_count": 10,
     "metadata": {},
     "output_type": "execute_result"
    }
   ],
   "source": [
    "# Hvor mange rækker er der tilbage, nu hvor vi har fjernet nogle rækker?\n",
    "df.shape"
   ]
  },
  {
   "cell_type": "code",
   "execution_count": 11,
   "metadata": {},
   "outputs": [
    {
     "data": {
      "text/plain": [
       "A_id           0\n",
       "Size           0\n",
       "Weight         0\n",
       "Sweetness      0\n",
       "Crunchiness    0\n",
       "Juiciness      0\n",
       "Ripeness       0\n",
       "Acidity        0\n",
       "Quality        0\n",
       "dtype: int64"
      ]
     },
     "execution_count": 11,
     "metadata": {},
     "output_type": "execute_result"
    }
   ],
   "source": [
    "# Tjek, at der ikke er flere rækker, hvor der mangler værdier.\n",
    "df.isna().sum()"
   ]
  },
  {
   "cell_type": "markdown",
   "metadata": {},
   "source": [
    "## 5. Konverter datatypen på enkelte kolonner\n",
    "\n",
    "Under afsnit 3 fandt du ud af, at kolonnen 'Acidity' (æblets syrlighed) har datatypen 'object'.\n",
    "\n",
    "Alle de andre rækker med egenskaber for æbler har datatypen 'float64' (decimaltal). Det er nok en fejl, at syrligheden ikke er angivet som et decimaltal.\n",
    "\n",
    "Kolonnen 'Quality' (æblets kvalitet) har datatypen 'object' og angiver med enten 'good' eller 'bad', om æblet er godt eller dårligt. Når der kun er to mulige værdier, bør datatypen være 'category'."
   ]
  },
  {
   "cell_type": "code",
   "execution_count": 12,
   "metadata": {},
   "outputs": [],
   "source": [
    "# Brug metoden \"apply(pd.to_numeric)\" til at konvertere datatypen for kolonnen 'Acidity' til 'float64'.\n",
    "# Hvis din DataFrame f.eks. hedder 'data' og din kolonne hedder 'kolonnenavn' er syntaksen således:\n",
    "# \"data['kolonnenavn'] = data['kolonnenavn'].apply(pd.to_numeric)\"\n",
    "# Konverter kolonnen 'Acidity' til datatypen 'float64'.\n",
    "df['Acidity'] = df['Acidity'].apply(pd.to_numeric)"
   ]
  },
  {
   "cell_type": "code",
   "execution_count": 13,
   "metadata": {},
   "outputs": [],
   "source": [
    "# Konverter kolonnen 'Quality' til datatypen 'category'.\n",
    "# Syntaksen er \"data['kolonnenavn'] = data['kolonnenavn'].astype('category')\"\n",
    "df['Quality'] = df['Quality'].astype('category')"
   ]
  },
  {
   "cell_type": "code",
   "execution_count": 14,
   "metadata": {},
   "outputs": [
    {
     "data": {
      "text/plain": [
       "A_id            float64\n",
       "Size            float64\n",
       "Weight          float64\n",
       "Sweetness       float64\n",
       "Crunchiness     float64\n",
       "Juiciness       float64\n",
       "Ripeness        float64\n",
       "Acidity         float64\n",
       "Quality        category\n",
       "dtype: object"
      ]
     },
     "execution_count": 14,
     "metadata": {},
     "output_type": "execute_result"
    }
   ],
   "source": [
    "# Tjek, at dine kommandoer har haft den ønskede effekt, ved at vise alle datatyperne for kolonnerne i dit datasæt.\n",
    "df.dtypes"
   ]
  },
  {
   "cell_type": "markdown",
   "metadata": {},
   "source": [
    "## 6. Beregn simple statistiske deskriptorer\n",
    "\n",
    "Vi har en række egenskaber for æblerne i kolonnerne 2-8. Disse egenskaber er angivet som decimaltalsværdier.\n",
    "\n",
    "Vi kan derfor undersøge tallene og beregne statistiske deskriptorer.\n",
    "\n",
    "Vi vil gerne beregne\n",
    "- minimum (mindsteværdi)\n",
    "- maksimum (størsteværdi)\n",
    "- middelværdi (gennemsnit)\n",
    "- standardafvigelse (spredning)\n",
    "- median"
   ]
  },
  {
   "cell_type": "code",
   "execution_count": 16,
   "metadata": {},
   "outputs": [
    {
     "data": {
      "text/plain": [
       "-7.151703059"
      ]
     },
     "execution_count": 16,
     "metadata": {},
     "output_type": "execute_result"
    }
   ],
   "source": [
    "# Vi bruger Numpy-biblioteket til beregningerne.\n",
    "# Hvis vi ser på størrelsen først, kan vi gøre følgende:\n",
    "apple_sizes = df['Size']\n",
    "np.min(apple_sizes)\n",
    "# np.max(apple_sizes)\n",
    "# np.mean(apple_sizes)\n",
    "# np.std(apple_sizes)\n",
    "# np.median(apple_sizes)\n",
    "# Fjern 'havelågerne' og kør kommandoerne en efter en.\n",
    "# Forklar, hvad det er, du regner ud."
   ]
  },
  {
   "cell_type": "code",
   "execution_count": 17,
   "metadata": {},
   "outputs": [
    {
     "name": "stdout",
     "output_type": "stream",
     "text": [
      "Mindsteværdien er -7.151703059.\n"
     ]
    }
   ],
   "source": [
    "# Kør nedenståend kommando (fjern #)\n",
    "print(f\"Mindsteværdien er {np.min(apple_sizes)}.\")\n",
    "# Hvad sker der ved det?"
   ]
  },
  {
   "cell_type": "code",
   "execution_count": 17,
   "metadata": {},
   "outputs": [],
   "source": [
    "# Kør en kommando, som printer \"Middelværdien er \" efterfulgt af den konkrete middelværdi ud."
   ]
  },
  {
   "cell_type": "code",
   "execution_count": 18,
   "metadata": {},
   "outputs": [],
   "source": [
    "# Lav de samme beregninger på de resterende kolonner (3-8)"
   ]
  },
  {
   "cell_type": "code",
   "execution_count": 18,
   "metadata": {},
   "outputs": [
    {
     "data": {
      "text/html": [
       "<div>\n",
       "<style scoped>\n",
       "    .dataframe tbody tr th:only-of-type {\n",
       "        vertical-align: middle;\n",
       "    }\n",
       "\n",
       "    .dataframe tbody tr th {\n",
       "        vertical-align: top;\n",
       "    }\n",
       "\n",
       "    .dataframe thead th {\n",
       "        text-align: right;\n",
       "    }\n",
       "</style>\n",
       "<table border=\"1\" class=\"dataframe\">\n",
       "  <thead>\n",
       "    <tr style=\"text-align: right;\">\n",
       "      <th></th>\n",
       "      <th>count</th>\n",
       "      <th>mean</th>\n",
       "      <th>std</th>\n",
       "      <th>min</th>\n",
       "      <th>25%</th>\n",
       "      <th>50%</th>\n",
       "      <th>75%</th>\n",
       "      <th>max</th>\n",
       "    </tr>\n",
       "  </thead>\n",
       "  <tbody>\n",
       "    <tr>\n",
       "      <th>A_id</th>\n",
       "      <td>3996.0</td>\n",
       "      <td>1997.522272</td>\n",
       "      <td>1153.728450</td>\n",
       "      <td>0.000000</td>\n",
       "      <td>998.750000</td>\n",
       "      <td>1997.500000</td>\n",
       "      <td>2996.250000</td>\n",
       "      <td>3999.000000</td>\n",
       "    </tr>\n",
       "    <tr>\n",
       "      <th>Size</th>\n",
       "      <td>3996.0</td>\n",
       "      <td>-0.501660</td>\n",
       "      <td>1.927939</td>\n",
       "      <td>-7.151703</td>\n",
       "      <td>-1.815958</td>\n",
       "      <td>-0.512366</td>\n",
       "      <td>0.806325</td>\n",
       "      <td>6.406367</td>\n",
       "    </tr>\n",
       "    <tr>\n",
       "      <th>Weight</th>\n",
       "      <td>3996.0</td>\n",
       "      <td>-0.990192</td>\n",
       "      <td>1.602175</td>\n",
       "      <td>-7.149848</td>\n",
       "      <td>-2.011770</td>\n",
       "      <td>-0.984736</td>\n",
       "      <td>0.029682</td>\n",
       "      <td>5.790714</td>\n",
       "    </tr>\n",
       "    <tr>\n",
       "      <th>Sweetness</th>\n",
       "      <td>3996.0</td>\n",
       "      <td>-0.471968</td>\n",
       "      <td>1.943692</td>\n",
       "      <td>-6.894485</td>\n",
       "      <td>-1.738545</td>\n",
       "      <td>-0.506559</td>\n",
       "      <td>0.794418</td>\n",
       "      <td>6.374916</td>\n",
       "    </tr>\n",
       "    <tr>\n",
       "      <th>Crunchiness</th>\n",
       "      <td>3996.0</td>\n",
       "      <td>0.985527</td>\n",
       "      <td>1.403032</td>\n",
       "      <td>-6.055058</td>\n",
       "      <td>0.062764</td>\n",
       "      <td>0.998249</td>\n",
       "      <td>1.894234</td>\n",
       "      <td>7.619852</td>\n",
       "    </tr>\n",
       "    <tr>\n",
       "      <th>Juiciness</th>\n",
       "      <td>3996.0</td>\n",
       "      <td>0.511474</td>\n",
       "      <td>1.931029</td>\n",
       "      <td>-5.961897</td>\n",
       "      <td>-0.801502</td>\n",
       "      <td>0.533062</td>\n",
       "      <td>1.836668</td>\n",
       "      <td>7.364403</td>\n",
       "    </tr>\n",
       "    <tr>\n",
       "      <th>Ripeness</th>\n",
       "      <td>3996.0</td>\n",
       "      <td>0.498316</td>\n",
       "      <td>1.874934</td>\n",
       "      <td>-5.864599</td>\n",
       "      <td>-0.771677</td>\n",
       "      <td>0.503445</td>\n",
       "      <td>1.766212</td>\n",
       "      <td>7.237837</td>\n",
       "    </tr>\n",
       "    <tr>\n",
       "      <th>Acidity</th>\n",
       "      <td>3996.0</td>\n",
       "      <td>0.076116</td>\n",
       "      <td>2.110921</td>\n",
       "      <td>-7.010538</td>\n",
       "      <td>-1.378172</td>\n",
       "      <td>0.022326</td>\n",
       "      <td>1.510493</td>\n",
       "      <td>7.404736</td>\n",
       "    </tr>\n",
       "  </tbody>\n",
       "</table>\n",
       "</div>"
      ],
      "text/plain": [
       "              count         mean          std       min         25%  \\\n",
       "A_id         3996.0  1997.522272  1153.728450  0.000000  998.750000   \n",
       "Size         3996.0    -0.501660     1.927939 -7.151703   -1.815958   \n",
       "Weight       3996.0    -0.990192     1.602175 -7.149848   -2.011770   \n",
       "Sweetness    3996.0    -0.471968     1.943692 -6.894485   -1.738545   \n",
       "Crunchiness  3996.0     0.985527     1.403032 -6.055058    0.062764   \n",
       "Juiciness    3996.0     0.511474     1.931029 -5.961897   -0.801502   \n",
       "Ripeness     3996.0     0.498316     1.874934 -5.864599   -0.771677   \n",
       "Acidity      3996.0     0.076116     2.110921 -7.010538   -1.378172   \n",
       "\n",
       "                     50%          75%          max  \n",
       "A_id         1997.500000  2996.250000  3999.000000  \n",
       "Size           -0.512366     0.806325     6.406367  \n",
       "Weight         -0.984736     0.029682     5.790714  \n",
       "Sweetness      -0.506559     0.794418     6.374916  \n",
       "Crunchiness     0.998249     1.894234     7.619852  \n",
       "Juiciness       0.533062     1.836668     7.364403  \n",
       "Ripeness        0.503445     1.766212     7.237837  \n",
       "Acidity         0.022326     1.510493     7.404736  "
      ]
     },
     "execution_count": 18,
     "metadata": {},
     "output_type": "execute_result"
    }
   ],
   "source": [
    "# Kør kommandoen \"<dataframe>.describe().T\"\n",
    "# Husk at erstatte \"<dataframe>\" med navnet på din datavariabel.\n",
    "# Hvad viser outputtet?\n",
    "df.describe().T"
   ]
  },
  {
   "cell_type": "markdown",
   "metadata": {},
   "source": [
    "## 7. Plot simple statistiske figurer\n",
    "\n",
    "Vi vil gerne kunne illustrere datasættet grafisk ved boksplots og histogrammer.\n",
    "\n",
    "Vi bruger bibliotekerne Matplotlib.pyplot og Seaborn til at lave de grafiske figurer."
   ]
  },
  {
   "cell_type": "code",
   "execution_count": 23,
   "metadata": {},
   "outputs": [
    {
     "data": {
      "image/png": "[encoded data removed]",
      "text/plain": [
       "<Figure size 640x480 with 1 Axes>"
      ]
     },
     "metadata": {},
     "output_type": "display_data"
    }
   ],
   "source": [
    "# Vi laver først et enkelt boksplot til illustration af æblestørrelserne.\n",
    "plt.boxplot(df['Sweetness'], vert=False, whis=(0,100));\n",
    "# Fjern # på ovenstående linje (husk at skrive noget andet, hvis din variabel ikke hedder apple_sizes)\n"
   ]
  },
  {
   "cell_type": "code",
   "execution_count": 21,
   "metadata": {},
   "outputs": [],
   "source": [
    "# Lav to boksplot mere baseret på nogle af de andre egenskaber ved æblerne."
   ]
  },
  {
   "cell_type": "code",
   "execution_count": 24,
   "metadata": {},
   "outputs": [
    {
     "data": {
      "text/plain": [
       "<Axes: >"
      ]
     },
     "execution_count": 24,
     "metadata": {},
     "output_type": "execute_result"
    },
    {
     "data": {
      "image/png": "[encoded data removed]",
      "text/plain": [
       "<Figure size 2000x800 with 1 Axes>"
      ]
     },
     "metadata": {},
     "output_type": "display_data"
    }
   ],
   "source": [
    "# Fjern # på de to efterfølgende linjer\n",
    "fig = plt.figure(figsize=(20,8))\n",
    "sns.boxplot(df[df.columns[1:]], whis=(0,100), orient='h')\n",
    "# Hvad viser figuren?"
   ]
  },
  {
   "cell_type": "code",
   "execution_count": 25,
   "metadata": {},
   "outputs": [
    {
     "data": {
      "image/png": "[encoded data removed]",
      "text/plain": [
       "<Figure size 640x480 with 1 Axes>"
      ]
     },
     "metadata": {},
     "output_type": "display_data"
    }
   ],
   "source": [
    "# Vi laver nu et histogram over æblestørrelserne\n",
    "# Kør nedenstående:\n",
    "inddeling = [x for x in range(-8,8,1)]\n",
    "plt.hist(apple_sizes, bins=inddeling, edgecolor='black');"
   ]
  },
  {
   "cell_type": "code",
   "execution_count": 24,
   "metadata": {},
   "outputs": [],
   "source": [
    "# Hvad vises der på figuren?"
   ]
  },
  {
   "cell_type": "code",
   "execution_count": 25,
   "metadata": {},
   "outputs": [],
   "source": [
    "# Hvilke tal er der i listen 'inddeling'?"
   ]
  },
  {
   "cell_type": "code",
   "execution_count": 26,
   "metadata": {},
   "outputs": [],
   "source": [
    "# Hvad sker der, hvis du tager nogle andre tal?"
   ]
  },
  {
   "cell_type": "code",
   "execution_count": 27,
   "metadata": {},
   "outputs": [],
   "source": [
    "# Lav histogrammer for de andre egenskaber ved æblerne."
   ]
  },
  {
   "cell_type": "markdown",
   "metadata": {},
   "source": [
    "## 8. Mere avancerede plots\n",
    "\n",
    "Her kan vi se at vi har kolonnerne A_id, Size, Weight, Sweetness, Crunchiness, Juiciness, Ripeness, Acidity, Quality.\n",
    "Quality er en klassificering af æblerne i god eller dårlig. (good/bad) Vi vil gerne ved forskellig plot undersøge om nogle af de andre data kan bruges til at sige noge om æblet er godt eller dårligt.\n",
    "\n",
    "Når vi plotter vil vi have at de gode æbler er røde og de dårlige er grønne."
   ]
  },
  {
   "cell_type": "code",
   "execution_count": null,
   "metadata": {},
   "outputs": [],
   "source": [
    "# Vi vil definere kontrolstruktur, som angiver farven rød, hvis et givet æbles kvalitet er 'good' og farven grøn hvis det er 'bad'.\n",
    "# colors = np.where(df[\"Quality\"]==\"good\",'red','green')\n",
    "# Fjern # fra ovenstående linje og kør koden."
   ]
  },
  {
   "cell_type": "code",
   "execution_count": null,
   "metadata": {},
   "outputs": [],
   "source": [
    "# Vi bruger et \"scatter plot\" til at plotte to æbleegenskaber op mod hinanden. Den ene egenskab sættes som x-koordinat og den anden som y-koordinat\n",
    "# og talparrene plottes i et almindeligt koordinatssystem.\n",
    "# Hvert punkt tildeles en farve baseret på den kontrolstruktur, som du definerede før (god = rød, dårlig = grøn)\n",
    "# <dataframe>.plot.scatter(x=\"Juiciness\", y=\"Crunchiness\", c=colors)\n",
    "# Fjern # i linjen ovenfor. Husk at erstatte <dataframe> med din egen variabel."
   ]
  },
  {
   "cell_type": "code",
   "execution_count": null,
   "metadata": {},
   "outputs": [],
   "source": [
    "# Undersøg egenskaberne to og to ved at lave flere scatter plots som ovenstående."
   ]
  },
  {
   "cell_type": "code",
   "execution_count": null,
   "metadata": {},
   "outputs": [],
   "source": [
    "# Vi kan også plotte 3 egenskaber op mod hinanden i et 3D-plot.\n",
    "# Bemærk, at 'df' nedenfor er den variabel, som indeholder vores DataFrame.\n",
    "# Husk at ændre navnet, hvis din hedder noget andet.\n",
    "# Der skal lidt flere linjers kode til. Fjern # fra de næste 8 linjer.\n",
    "# fig = plt.figure(figsize=(10,10))\n",
    "# plt.margins(x=1.5, y=1.5)\n",
    "# ax = fig.add_subplot(projection='3d')\n",
    "# ax.scatter(df['Juiciness'], df['Size'], df['Crunchiness'], c=colors)\n",
    "# ax.set_xlabel('Juiciness')\n",
    "# ax.set_ylabel('Size')\n",
    "# ax.set_zlabel('Crunchiness')\n",
    "# plt.show()"
   ]
  },
  {
   "cell_type": "code",
   "execution_count": null,
   "metadata": {},
   "outputs": [],
   "source": [
    "# Undersøg egenskaberne tre og tre ved at lave flere scatter plots som ovenstående."
   ]
  },
  {
   "cell_type": "code",
   "execution_count": null,
   "metadata": {},
   "outputs": [],
   "source": [
    "# For at spare lidt på indtastningerne (DRY-princippet: Don't Repeat Yourself)\n",
    "# kan vi pakke kommandoerne til både 2D- og 3D-plots ind i en funktion.\n",
    "# Bemærk igen, at hvis din DataFrame hedder noget andet end 'df', så skal du ændre i koden.\n",
    "# Fjern '# ' nedenfor\n",
    "# def my_scatter_plot(cat1, cat2, cat3=\"\"):\n",
    "#    if ((cat1 not in list(df.columns[:-1])) or (cat2 not in list(df.columns[:-1]))):\n",
    "#        print(\"Du kan kun bruge gyldige egenskaber. Tjek om du har stavet alt korrekt.\")\n",
    "#        return\n",
    "#    if (cat3 in list(df.columns[:-1])):\n",
    "#        fig = plt.figure(figsize=(10,10))\n",
    "#        plt.margins(x=1.5, y=1.5)\n",
    "#        ax = fig.add_subplot(projection='3d')\n",
    "#        ax.scatter(df[cat1], df[cat2], df[cat3], c=colors)\n",
    "#        ax.set_xlabel(cat1)\n",
    "#        ax.set_ylabel(cat2)\n",
    "#        ax.set_zlabel(cat3)\n",
    "#        plt.show()\n",
    "#    elif len(cat3) == 0:\n",
    "#        df.plot.scatter(x=cat1, y=cat2, c=colors)\n",
    "#    else:\n",
    "#        print(\"Du kan kun bruge gyldige egenskaber. Tjek om du har stavet alt korrekt.\")\n",
    "#        return"
   ]
  },
  {
   "cell_type": "code",
   "execution_count": null,
   "metadata": {},
   "outputs": [],
   "source": [
    "# Kør funktionen 'my_scatter_plot' med både to og tre argumenter."
   ]
  }
 ],
 "metadata": {
  "kernelspec": {
   "display_name": "Python 3",
   "language": "python",
   "name": "python3"
  },
  "language_info": {
   "codemirror_mode": {
    "name": "ipython",
    "version": 3
   },
   "file_extension": ".py",
   "mimetype": "text/x-python",
   "name": "python",
   "nbconvert_exporter": "python",
   "pygments_lexer": "ipython3",
   "version": "3.12.2"
  }
 },
 "nbformat": 4,
 "nbformat_minor": 2
}
